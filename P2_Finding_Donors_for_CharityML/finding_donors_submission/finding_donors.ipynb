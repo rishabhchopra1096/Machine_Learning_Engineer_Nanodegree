{
 "cells": [
  {
   "cell_type": "markdown",
   "metadata": {},
   "source": [
    "# Machine Learning Engineer Nanodegree\n",
    "## Supervised Learning\n",
    "## Project: Finding Donors for *CharityML*"
   ]
  },
  {
   "cell_type": "markdown",
   "metadata": {},
   "source": [
    "Welcome to the second project of the Machine Learning Engineer Nanodegree! In this notebook, some template code has already been provided for you, and it will be your job to implement the additional functionality necessary to successfully complete this project. Sections that begin with **'Implementation'** in the header indicate that the following block of code will require additional functionality which you must provide. Instructions will be provided for each section and the specifics of the implementation are marked in the code block with a `'TODO'` statement. Please be sure to read the instructions carefully!\n",
    "\n",
    "In addition to implementing code, there will be questions that you must answer which relate to the project and your implementation. Each section where you will answer a question is preceded by a **'Question X'** header. Carefully read each question and provide thorough answers in the following text boxes that begin with **'Answer:'**. Your project submission will be evaluated based on your answers to each of the questions and the implementation you provide.  \n",
    "\n",
    ">**Note:** Please specify WHICH VERSION OF PYTHON you are using when submitting this notebook. Code and Markdown cells can be executed using the **Shift + Enter** keyboard shortcut. In addition, Markdown cells can be edited by typically double-clicking the cell to enter edit mode."
   ]
  },
  {
   "cell_type": "code",
   "execution_count": 44,
   "metadata": {},
   "outputs": [
    {
     "name": "stdout",
     "output_type": "stream",
     "text": [
      "I am using Python Version:  3.6.1\n"
     ]
    }
   ],
   "source": [
    "import platform\n",
    "print(\"I am using Python Version: \", platform.python_version())"
   ]
  },
  {
   "cell_type": "markdown",
   "metadata": {},
   "source": [
    "## Getting Started\n",
    "\n",
    "In this project, you will employ several supervised algorithms of your choice to accurately model individuals' income using data collected from the 1994 U.S. Census. You will then choose the best candidate algorithm from preliminary results and further optimize this algorithm to best model the data. Your goal with this implementation is to construct a model that accurately predicts whether an individual makes more than $50,000. This sort of task can arise in a non-profit setting, where organizations survive on donations.  Understanding an individual's income can help a non-profit better understand how large of a donation to request, or whether or not they should reach out to begin with.  While it can be difficult to determine an individual's general income bracket directly from public sources, we can (as we will see) infer this value from other publically available features. \n",
    "\n",
    "The dataset for this project originates from the [UCI Machine Learning Repository](https://archive.ics.uci.edu/ml/datasets/Census+Income). The datset was donated by Ron Kohavi and Barry Becker, after being published in the article _\"Scaling Up the Accuracy of Naive-Bayes Classifiers: A Decision-Tree Hybrid\"_. You can find the article by Ron Kohavi [online](https://www.aaai.org/Papers/KDD/1996/KDD96-033.pdf). The data we investigate here consists of small changes to the original dataset, such as removing the `'fnlwgt'` feature and records with missing or ill-formatted entries."
   ]
  },
  {
   "cell_type": "markdown",
   "metadata": {},
   "source": [
    "----\n",
    "## Exploring the Data\n",
    "Run the code cell below to load necessary Python libraries and load the census data. Note that the last column from this dataset, `'income'`, will be our target label (whether an individual makes more than, or at most, $50,000 annually). All other columns are features about each individual in the census database."
   ]
  },
  {
   "cell_type": "code",
   "execution_count": 2,
   "metadata": {},
   "outputs": [
    {
     "data": {
      "text/html": [
       "<div>\n",
       "<style>\n",
       "    .dataframe thead tr:only-child th {\n",
       "        text-align: right;\n",
       "    }\n",
       "\n",
       "    .dataframe thead th {\n",
       "        text-align: left;\n",
       "    }\n",
       "\n",
       "    .dataframe tbody tr th {\n",
       "        vertical-align: top;\n",
       "    }\n",
       "</style>\n",
       "<table border=\"1\" class=\"dataframe\">\n",
       "  <thead>\n",
       "    <tr style=\"text-align: right;\">\n",
       "      <th></th>\n",
       "      <th>age</th>\n",
       "      <th>workclass</th>\n",
       "      <th>education_level</th>\n",
       "      <th>education-num</th>\n",
       "      <th>marital-status</th>\n",
       "      <th>occupation</th>\n",
       "      <th>relationship</th>\n",
       "      <th>race</th>\n",
       "      <th>sex</th>\n",
       "      <th>capital-gain</th>\n",
       "      <th>capital-loss</th>\n",
       "      <th>hours-per-week</th>\n",
       "      <th>native-country</th>\n",
       "      <th>income</th>\n",
       "    </tr>\n",
       "  </thead>\n",
       "  <tbody>\n",
       "    <tr>\n",
       "      <th>0</th>\n",
       "      <td>39</td>\n",
       "      <td>State-gov</td>\n",
       "      <td>Bachelors</td>\n",
       "      <td>13.0</td>\n",
       "      <td>Never-married</td>\n",
       "      <td>Adm-clerical</td>\n",
       "      <td>Not-in-family</td>\n",
       "      <td>White</td>\n",
       "      <td>Male</td>\n",
       "      <td>2174.0</td>\n",
       "      <td>0.0</td>\n",
       "      <td>40.0</td>\n",
       "      <td>United-States</td>\n",
       "      <td>&lt;=50K</td>\n",
       "    </tr>\n",
       "  </tbody>\n",
       "</table>\n",
       "</div>"
      ],
      "text/plain": [
       "   age   workclass education_level  education-num  marital-status  \\\n",
       "0   39   State-gov       Bachelors           13.0   Never-married   \n",
       "\n",
       "      occupation    relationship    race    sex  capital-gain  capital-loss  \\\n",
       "0   Adm-clerical   Not-in-family   White   Male        2174.0           0.0   \n",
       "\n",
       "   hours-per-week  native-country income  \n",
       "0            40.0   United-States  <=50K  "
      ]
     },
     "metadata": {},
     "output_type": "display_data"
    }
   ],
   "source": [
    "# Import libraries necessary for this project\n",
    "import numpy as np\n",
    "import pandas as pd\n",
    "from time import time\n",
    "from IPython.display import display # Allows the use of display() for DataFrames\n",
    "import os\n",
    "\n",
    "# Import supplementary visualization code visuals.py\n",
    "import visuals as vs\n",
    "\n",
    "# Pretty display for notebooks\n",
    "import matplotlib.pyplot as plt\n",
    "%matplotlib inline\n",
    "plt.rcParams[\"axes.labelsize\"] = 14\n",
    "plt.rcParams[\"xtick.labelsize\"] = 14\n",
    "plt.rcParams[\"ytick.labelsize\"] = 12\n",
    "\n",
    "# Where to save the figures:\n",
    "PROJECT_ROOT_DIR = \".\"\n",
    "\n",
    "def save_fig(fig_id, tight_layout=True):\n",
    "    path = os.path.join(PROJECT_ROOT_DIR , \"images\",\n",
    "                        fig_id+\".png\")\n",
    "    print(\"Saving figure: \", fig_id)\n",
    "    if tight_layout:\n",
    "        plt.tight_layout()\n",
    "    plt.savefig(path, dpi = 300, format = \"png\")\n",
    "    \n",
    "# Load the Census dataset\n",
    "data = pd.read_csv(\"census.csv\")\n",
    "\n",
    "# Success - Display the first record\n",
    "plt.display(data.head(n=1))"
   ]
  },
  {
   "cell_type": "markdown",
   "metadata": {},
   "source": [
    "### Implementation: Data Exploration\n",
    "A cursory investigation of the dataset will determine how many individuals fit into either group, and will tell us about the percentage of these individuals making more than \\$50,000. In the code cell below, you will need to compute the following:\n",
    "- The total number of records, `'n_records'`\n",
    "- The number of individuals making more than \\$50,000 annually, `'n_greater_50k'`.\n",
    "- The number of individuals making at most \\$50,000 annually, `'n_at_most_50k'`.\n",
    "- The percentage of individuals making more than \\$50,000 annually, `'greater_percent'`.\n",
    "\n",
    "** HINT: ** You may need to look at the table above to understand how the `'income'` entries are formatted. "
   ]
  },
  {
   "cell_type": "code",
   "execution_count": 2,
   "metadata": {},
   "outputs": [
    {
     "name": "stdout",
     "output_type": "stream",
     "text": [
      "Total number of records: 45222\n",
      "Individuals making more than $50,000: 11208\n",
      "Individuals making at most $50,000: 34014\n",
      "Percentage of individuals making more than $50,000: 24.78%\n"
     ]
    }
   ],
   "source": [
    "# TODO: Total number of records\n",
    "n_records = data.shape[0]\n",
    "\n",
    "# TODO: Number of records where individual's income \n",
    "# is more than $50,000\n",
    "n_greater_50k = data[data[\"income\"] == \">50K\"].shape[0]\n",
    "\n",
    "# TODO: Number of records where individual's income \n",
    "# is at most $50,000 \n",
    "n_at_most_50k =data[data[\"income\"] == \"<=50K\"].shape[0]\n",
    "\n",
    "# TODO: Percentage of individuals whose income is more\n",
    "# than $50,000\n",
    "greater_percent = (n_greater_50k*100)/n_records \n",
    "\n",
    "# Print the results\n",
    "print (\"Total number of records: {}\".format(n_records))\n",
    "print (\"Individuals making more than $50,000: {}\".format(n_greater_50k))\n",
    "print (\"Individuals making at most $50,000: {}\".format(n_at_most_50k))\n",
    "print (\"Percentage of individuals making more than $50,000: {:.2f}%\".format(greater_percent))"
   ]
  },
  {
   "cell_type": "markdown",
   "metadata": {},
   "source": [
    "### Feature set Exploration:   \n",
    "\n",
    "\n",
    "- __age__: continuous `# numerical`\n",
    "- __workclass__: `# categorical`\n",
    "    - Private, Self-emp-not-inc, Self-emp-inc, Federal-gov, Local-gov, State-gov, Without-pay, Never-worked. \n",
    "- __Education__ : `# categorical`\n",
    "    - Bachelors, Some-college, 11th, HS-grad, Prof-school, Assoc-acdm, Assoc-voc, 9th, 7th-8th, 12th, Masters, 1st-4th, 10th, Doctorate, 5th-6th, Preschool. \n",
    "* **education-num**: continuous. \n",
    "- __Education-num__: `# numerical`\n",
    "    - Continuous\n",
    "- __Marital_Status__: `# categorical`\n",
    "    - Married-civ-spouse, Divorced, Never-married, Separated, Widowed, Married-spouse-absent, Married-AF-spouse. \n",
    "- __Occupation__: `# categorical`\n",
    "    - Tech-support, Craft-repair, Other-service, Sales, Exec-managerial, Prof-specialty, Handlers-cleaners, Machine-op-inspct, Adm-clerical, Farming-fishing, Transport-moving, Priv-house-serv, Protective-serv, Armed-Forces. \n",
    "* **relationship**: `# categorical`\n",
    "    - Wife, Own-child, Husband, Not-in-family, Other-relative, Unmarried. \n",
    "* **race**: `# categorical`\n",
    "    - Black, White, Asian-Pac-Islander, Amer-Indian-Eskimo, Other. \n",
    "* **sex**: `# categorical`\n",
    "    - Female, Male. \n",
    "* **capital-gain**: continuous. `# numerical`\n",
    "* **capital-loss**: continuous. `# numerical`\n",
    "* **hours-per-week**: continuous. `# numerical`\n",
    "* **native-country**: `# categorical`\n",
    "    - United-States, Cambodia, England, Puerto-Rico, Canada, Germany, Outlying-US(Guam-USVI-etc), India, Japan, Greece, South, China, Cuba, Iran, Honduras, Philippines, Italy, Poland, Jamaica, Vietnam, Mexico, Portugal, Ireland, France, Dominican-Republic, Laos, Ecuador, Taiwan, Haiti, Columbia, Hungary, Guatemala, Nicaragua, Scotland, Thailand, Yugoslavia, El-Salvador, Trinadad&Tobago, Peru, Hong, Holand-Netherlands."
   ]
  },
  {
   "cell_type": "markdown",
   "metadata": {},
   "source": [
    "----\n",
    "## Preparing the Data\n",
    "- Before data can be used as input for machine learning algorithms, it often must be cleaned, formatted, and restructured — this is typically known as **preprocessing**. \n",
    "- Fortunately, for this dataset, there are no invalid or missing entries we must deal with, however, there are some qualities about certain features that must be adjusted. \n",
    "- This preprocessing can help tremendously with the outcome and predictive power of nearly all learning algorithms."
   ]
  },
  {
   "cell_type": "markdown",
   "metadata": {},
   "source": [
    "### Transforming Skewed Continuous Features\n",
    "- A dataset may sometimes contain at least one feature whose values tend to lie near a single number, but will also have a non-trivial number of vastly larger or smaller values than that single number.  \n",
    "- Algorithms can be sensitive to such distributions of values and can underperform if the range is not properly normalized. \n",
    "- With the census dataset two features fit this description: '`capital-gain'` and `'capital-loss'`. \n",
    "\n",
    "Run the code cell below to plot a histogram of these two features. Note the range of the values present and how they are distributed."
   ]
  },
  {
   "cell_type": "code",
   "execution_count": 3,
   "metadata": {},
   "outputs": [
    {
     "name": "stdout",
     "output_type": "stream",
     "text": [
      "Saving figure:  Skewed_Distributions\n"
     ]
    },
    {
     "data": {
      "image/png": "[encoded data removed]",
      "text/plain": [
       "<matplotlib.figure.Figure at 0x1031527b8>"
      ]
     },
     "metadata": {},
     "output_type": "display_data"
    }
   ],
   "source": [
    "# Split the data into features and target label\n",
    "income_raw = data['income']\n",
    "features_raw = data.drop('income', axis = 1)\n",
    "\n",
    "# Visualize skewed continuous features of original data\n",
    "vs.distribution(data)\n",
    "save_fig(\"Skewed_Distributions\")"
   ]
  },
  {
   "cell_type": "markdown",
   "metadata": {},
   "source": [
    "- For highly-skewed feature distributions such as `'capital-gain'` and `'capital-loss'`, it is common practice to apply a <a href=\"https://en.wikipedia.org/wiki/Data_transformation_(statistics)\">logarithmic transformation</a> on the data so that the very large and very small values do not negatively affect the performance of a learning algorithm. \n",
    "- Using a logarithmic transformation significantly reduces the range of values caused by outliers. \n",
    "- Care must be taken when applying this transformation however: The logarithm of `0` is undefined, so we must translate the values by a small amount above `0` to apply the the logarithm successfully.\n",
    "\n",
    "Run the code cell below to perform a transformation on the data and visualize the results. Again, note the range of values and how they are distributed. "
   ]
  },
  {
   "cell_type": "code",
   "execution_count": 4,
   "metadata": {},
   "outputs": [
    {
     "data": {
      "text/plain": [
       "4356.0"
      ]
     },
     "execution_count": 4,
     "metadata": {},
     "output_type": "execute_result"
    }
   ],
   "source": [
    "# Checking Range Right Now \n",
    "features_raw['capital-gain'].max()  - features_raw['capital-gain'].min()\n",
    "# >> 99999\n",
    "features_raw['capital-loss'].max()  - features_raw['capital-loss'].min()\n",
    "# >> 4356.0"
   ]
  },
  {
   "cell_type": "code",
   "execution_count": 5,
   "metadata": {},
   "outputs": [
    {
     "name": "stdout",
     "output_type": "stream",
     "text": [
      "Saving figure:  Log_Transformed_Distributions\n"
     ]
    },
    {
     "data": {
      "image/png": "[encoded data removed]",
      "text/plain": [
       "<matplotlib.figure.Figure at 0x103b39c18>"
      ]
     },
     "metadata": {},
     "output_type": "display_data"
    }
   ],
   "source": [
    "# Log-transform the skewed features\n",
    "skewed = ['capital-gain', 'capital-loss']\n",
    "features_log_transformed = pd.DataFrame(data = features_raw)\n",
    "features_log_transformed[skewed] = features_raw[skewed].apply(lambda x: np.log(x + 1))\n",
    "\n",
    "# Visualize the new log distributions\n",
    "vs.distribution(features_log_transformed, transformed = True)\n",
    "save_fig(\"Log_Transformed_Distributions\")"
   ]
  },
  {
   "cell_type": "code",
   "execution_count": 6,
   "metadata": {},
   "outputs": [
    {
     "data": {
      "text/plain": [
       "8.3795390261174418"
      ]
     },
     "execution_count": 6,
     "metadata": {},
     "output_type": "execute_result"
    }
   ],
   "source": [
    "# Checking Range after logarithmic transformation: \n",
    "features_log_transformed['capital-gain'].max()  - features_log_transformed['capital-gain'].min()\n",
    "# >> 11.512925464970229\n",
    "features_log_transformed['capital-loss'].max()  - features_log_transformed['capital-loss'].min()\n",
    "# >> 8.3795390261174418"
   ]
  },
  {
   "cell_type": "markdown",
   "metadata": {},
   "source": [
    "### Normalizing Numerical Features\n",
    "- In addition to performing transformations on features that are highly skewed, it is often good practice to perform some type of scaling on numerical features. \n",
    "- Applying a scaling to the data does not change the shape of each feature's distribution (such as `'capital-gain'` or `'capital-loss'` above); however, normalization ensures that each feature is treated equally when applying supervised learners. \n",
    "- Note that once scaling is applied, observing the data in its raw form will no longer have the same original meaning, as exampled below.\n",
    "\n",
    "Run the code cell below to normalize each numerical feature. We will use [`sklearn.preprocessing.MinMaxScaler`](http://scikit-learn.org/stable/modules/generated/sklearn.preprocessing.MinMaxScaler.html) for this."
   ]
  },
  {
   "cell_type": "code",
   "execution_count": 7,
   "metadata": {},
   "outputs": [
    {
     "data": {
      "text/html": [
       "<div>\n",
       "<style>\n",
       "    .dataframe thead tr:only-child th {\n",
       "        text-align: right;\n",
       "    }\n",
       "\n",
       "    .dataframe thead th {\n",
       "        text-align: left;\n",
       "    }\n",
       "\n",
       "    .dataframe tbody tr th {\n",
       "        vertical-align: top;\n",
       "    }\n",
       "</style>\n",
       "<table border=\"1\" class=\"dataframe\">\n",
       "  <thead>\n",
       "    <tr style=\"text-align: right;\">\n",
       "      <th></th>\n",
       "      <th>age</th>\n",
       "      <th>workclass</th>\n",
       "      <th>education_level</th>\n",
       "      <th>education-num</th>\n",
       "      <th>marital-status</th>\n",
       "      <th>occupation</th>\n",
       "      <th>relationship</th>\n",
       "      <th>race</th>\n",
       "      <th>sex</th>\n",
       "      <th>capital-gain</th>\n",
       "      <th>capital-loss</th>\n",
       "      <th>hours-per-week</th>\n",
       "      <th>native-country</th>\n",
       "    </tr>\n",
       "  </thead>\n",
       "  <tbody>\n",
       "    <tr>\n",
       "      <th>0</th>\n",
       "      <td>0.301370</td>\n",
       "      <td>State-gov</td>\n",
       "      <td>Bachelors</td>\n",
       "      <td>0.800000</td>\n",
       "      <td>Never-married</td>\n",
       "      <td>Adm-clerical</td>\n",
       "      <td>Not-in-family</td>\n",
       "      <td>White</td>\n",
       "      <td>Male</td>\n",
       "      <td>0.667492</td>\n",
       "      <td>0.0</td>\n",
       "      <td>0.397959</td>\n",
       "      <td>United-States</td>\n",
       "    </tr>\n",
       "    <tr>\n",
       "      <th>1</th>\n",
       "      <td>0.452055</td>\n",
       "      <td>Self-emp-not-inc</td>\n",
       "      <td>Bachelors</td>\n",
       "      <td>0.800000</td>\n",
       "      <td>Married-civ-spouse</td>\n",
       "      <td>Exec-managerial</td>\n",
       "      <td>Husband</td>\n",
       "      <td>White</td>\n",
       "      <td>Male</td>\n",
       "      <td>0.000000</td>\n",
       "      <td>0.0</td>\n",
       "      <td>0.122449</td>\n",
       "      <td>United-States</td>\n",
       "    </tr>\n",
       "    <tr>\n",
       "      <th>2</th>\n",
       "      <td>0.287671</td>\n",
       "      <td>Private</td>\n",
       "      <td>HS-grad</td>\n",
       "      <td>0.533333</td>\n",
       "      <td>Divorced</td>\n",
       "      <td>Handlers-cleaners</td>\n",
       "      <td>Not-in-family</td>\n",
       "      <td>White</td>\n",
       "      <td>Male</td>\n",
       "      <td>0.000000</td>\n",
       "      <td>0.0</td>\n",
       "      <td>0.397959</td>\n",
       "      <td>United-States</td>\n",
       "    </tr>\n",
       "    <tr>\n",
       "      <th>3</th>\n",
       "      <td>0.493151</td>\n",
       "      <td>Private</td>\n",
       "      <td>11th</td>\n",
       "      <td>0.400000</td>\n",
       "      <td>Married-civ-spouse</td>\n",
       "      <td>Handlers-cleaners</td>\n",
       "      <td>Husband</td>\n",
       "      <td>Black</td>\n",
       "      <td>Male</td>\n",
       "      <td>0.000000</td>\n",
       "      <td>0.0</td>\n",
       "      <td>0.397959</td>\n",
       "      <td>United-States</td>\n",
       "    </tr>\n",
       "    <tr>\n",
       "      <th>4</th>\n",
       "      <td>0.150685</td>\n",
       "      <td>Private</td>\n",
       "      <td>Bachelors</td>\n",
       "      <td>0.800000</td>\n",
       "      <td>Married-civ-spouse</td>\n",
       "      <td>Prof-specialty</td>\n",
       "      <td>Wife</td>\n",
       "      <td>Black</td>\n",
       "      <td>Female</td>\n",
       "      <td>0.000000</td>\n",
       "      <td>0.0</td>\n",
       "      <td>0.397959</td>\n",
       "      <td>Cuba</td>\n",
       "    </tr>\n",
       "  </tbody>\n",
       "</table>\n",
       "</div>"
      ],
      "text/plain": [
       "        age          workclass education_level  education-num  \\\n",
       "0  0.301370          State-gov       Bachelors       0.800000   \n",
       "1  0.452055   Self-emp-not-inc       Bachelors       0.800000   \n",
       "2  0.287671            Private         HS-grad       0.533333   \n",
       "3  0.493151            Private            11th       0.400000   \n",
       "4  0.150685            Private       Bachelors       0.800000   \n",
       "\n",
       "        marital-status          occupation    relationship    race      sex  \\\n",
       "0        Never-married        Adm-clerical   Not-in-family   White     Male   \n",
       "1   Married-civ-spouse     Exec-managerial         Husband   White     Male   \n",
       "2             Divorced   Handlers-cleaners   Not-in-family   White     Male   \n",
       "3   Married-civ-spouse   Handlers-cleaners         Husband   Black     Male   \n",
       "4   Married-civ-spouse      Prof-specialty            Wife   Black   Female   \n",
       "\n",
       "   capital-gain  capital-loss  hours-per-week  native-country  \n",
       "0      0.667492           0.0        0.397959   United-States  \n",
       "1      0.000000           0.0        0.122449   United-States  \n",
       "2      0.000000           0.0        0.397959   United-States  \n",
       "3      0.000000           0.0        0.397959   United-States  \n",
       "4      0.000000           0.0        0.397959            Cuba  "
      ]
     },
     "metadata": {},
     "output_type": "display_data"
    }
   ],
   "source": [
    "# Import sklearn.preprocessing.StandardScaler\n",
    "from sklearn.preprocessing import MinMaxScaler\n",
    "\n",
    "# Initialize a scaler, then apply it to the features\n",
    "scaler = MinMaxScaler() # default=(0, 1)\n",
    "numerical = ['age', 'education-num', 'capital-gain', \n",
    "             'capital-loss', 'hours-per-week']\n",
    "\n",
    "features_log_minmax_transform = pd.DataFrame(\n",
    "    data = features_log_transformed)\n",
    "features_log_minmax_transform[numerical] = \\\n",
    "scaler.fit_transform(features_log_transformed[numerical])\n",
    "\n",
    "# Show an example of a record with scaling applied\n",
    "display(features_log_minmax_transform.head(n = 5))"
   ]
  },
  {
   "cell_type": "markdown",
   "metadata": {},
   "source": [
    "### Visualsing scaling of numerical features: \n",
    "- Notice how the shape of the distribution does not change. Only the range of the `xlabel` does. "
   ]
  },
  {
   "cell_type": "code",
   "execution_count": 8,
   "metadata": {},
   "outputs": [
    {
     "name": "stdout",
     "output_type": "stream",
     "text": [
      "Saving figure:  Visualising_MinMax_Scaling\n"
     ]
    },
    {
     "data": {
      "image/png": "[encoded data removed]",
      "text/plain": [
       "<matplotlib.figure.Figure at 0x10e9806d8>"
      ]
     },
     "metadata": {},
     "output_type": "display_data"
    }
   ],
   "source": [
    "plt.figure(figsize = (8, 16))\n",
    "for subplot, num_col in zip([421, 423, 425, 427], \n",
    "                            numerical[:4]):\n",
    "    plt.subplot(subplot)\n",
    "    features_log_transformed[num_col].hist(color = \"b\")\n",
    "    plt.xlabel(num_col, fontsize = 15)\n",
    "    plt.title(\"Original Feature Distribution\")\n",
    "    \n",
    "for subplot, num_col in zip([422, 424, 426, 428], \n",
    "                            numerical[:4]):\n",
    "    plt.subplot(subplot)\n",
    "    features_log_minmax_transform[num_col].hist(color = \"c\")\n",
    "    plt.xlabel(num_col, fontsize = 15)\n",
    "    plt.title(\"Transformed Feature Distribution\")\n",
    "    \n",
    "save_fig(\"Visualising_MinMax_Scaling\")"
   ]
  },
  {
   "cell_type": "markdown",
   "metadata": {},
   "source": [
    "### Implementation: Data Preprocessing\n",
    "\n",
    "- From the table in **Exploring the Data** above, we can see there are several features for each record that are non-numeric. Typically, learning algorithms expect input to be numeric, which requires that non-numeric features (called *categorical variables*) be converted. \n",
    "- One popular way to convert categorical variables is by using the **one-hot encoding** scheme. \n",
    "- One-hot encoding creates a _\"dummy\"_ variable for each possible category of each non-numeric feature. For example, assume `someFeature` has three possible entries: `A`, `B`, or `C`. We then encode this feature into `someFeature_A`, `someFeature_B` and `someFeature_C`.\n",
    "\n",
    "|   | someFeature |                    | someFeature_A | someFeature_B | someFeature_C |\n",
    "| :-: | :-: |                            | :-: | :-: | :-: |\n",
    "| 0 |  B  |  | 0 | 1 | 0 |\n",
    "| 1 |  C  | ----> one-hot encode ----> | 0 | 0 | 1 |\n",
    "| 2 |  A  |  | 1 | 0 | 0 |\n",
    "\n",
    "- Additionally, as with the non-numeric features, we need to convert the non-numeric target label, `'income'` to numerical values for the learning algorithm to work. \n",
    "- Since there are only two possible categories for this label (\"<=50K\" and \">50K\"), we can avoid using one-hot encoding and simply encode these two categories as `0` and `1`, respectively. \n",
    "- In code cell below, you will need to implement the following:\n",
    " - Use [`pandas.get_dummies()`](http://pandas.pydata.org/pandas-docs/stable/generated/pandas.get_dummies.html?highlight=get_dummies#pandas.get_dummies) to perform one-hot encoding on the `'features_raw'` data.\n",
    " - Convert the target label `'income_raw'` to numerical entries.\n",
    "   - Set records with \"<=50K\" to `0` and records with \">50K\" to `1`."
   ]
  },
  {
   "cell_type": "code",
   "execution_count": 9,
   "metadata": {},
   "outputs": [
    {
     "name": "stdout",
     "output_type": "stream",
     "text": [
      "workclass           7\n",
      "education_level    16\n",
      "marital-status      7\n",
      "occupation         14\n",
      "relationship        6\n",
      "race                5\n",
      "sex                 2\n",
      "native-country     41\n",
      "dtype: int64\n",
      "98\n"
     ]
    }
   ],
   "source": [
    "# Expected one-hot encoded columns generated \n",
    "categorical = [\"workclass\", \"education_level\", \"marital-status\",\n",
    "              \"occupation\", \"relationship\", \"race\", \"sex\",\n",
    "               \"native-country\"]\n",
    "\n",
    "# Printing the number of unique values in each categorical \n",
    "# column\n",
    "print(features_log_minmax_transform[categorical].apply(lambda x: x.nunique()))\n",
    "\n",
    "# Printing the total number of unique values from all\n",
    "# categorical columns\n",
    "print(np.sum(features_log_minmax_transform[categorical].apply(lambda x: x.nunique())))\n",
    "# >> 98\n",
    "\n",
    "# There are 5 numerical columns\n",
    "# Expected total number of columns: 98 + 5 = 103"
   ]
  },
  {
   "cell_type": "code",
   "execution_count": 10,
   "metadata": {
    "scrolled": true
   },
   "outputs": [
    {
     "name": "stdout",
     "output_type": "stream",
     "text": [
      "103 total features after one-hot encoding.\n"
     ]
    }
   ],
   "source": [
    "# TODO: One-hot encode the 'features_log_minmax_transform' \n",
    "# data using pandas.get_dummies()\n",
    "features_final = pd.get_dummies(features_log_minmax_transform)\n",
    "# >> shape: (45222, 103)\n",
    "\n",
    "# TODO: Encode the 'income_raw' data to numerical values\n",
    "from sklearn.preprocessing import LabelEncoder\n",
    "encoder = LabelEncoder()\n",
    "income = encoder.fit_transform(income_raw)\n",
    "\n",
    "# Print the number of features after one-hot encoding\n",
    "encoded = list(features_final.columns)\n",
    "print (\"{} total features after one-hot encoding.\".format(len(encoded)))\n",
    "\n",
    "# Uncomment the following line to see the encoded feature names\n",
    "# print encoded"
   ]
  },
  {
   "cell_type": "markdown",
   "metadata": {},
   "source": [
    "### Shuffle and Split Data\n",
    "Now all _categorical variables_ have been converted into numerical features, and all numerical features have been normalized. As always, we will now split the data (both features and their labels) into training and test sets. 80% of the data will be used for training and 20% for testing.\n",
    "\n",
    "Run the code cell below to perform this split."
   ]
  },
  {
   "cell_type": "code",
   "execution_count": 11,
   "metadata": {},
   "outputs": [
    {
     "name": "stdout",
     "output_type": "stream",
     "text": [
      "Training set has 36177 samples.\n",
      "Testing set has 9045 samples.\n"
     ]
    }
   ],
   "source": [
    "# Import train_test_split\n",
    "from sklearn.model_selection import train_test_split\n",
    "\n",
    "# Split the 'features' and 'income' data into training and testing sets\n",
    "X_train, X_test, y_train, y_test = train_test_split(features_final, \n",
    "                                                    income, \n",
    "                                                    test_size = 0.2, \n",
    "                                                    random_state = 0)\n",
    "\n",
    "# Show the results of the split\n",
    "print (\"Training set has {} samples.\".format(X_train.shape[0]))\n",
    "print (\"Testing set has {} samples.\".format(X_test.shape[0]))"
   ]
  },
  {
   "cell_type": "markdown",
   "metadata": {},
   "source": [
    "- __Ensuring whether the splitting takes into account the skewed classes:__\n",
    "    - The % of people having income greater than(or less than) 50,000 should be the same in:\n",
    "        - The real population \n",
    "        - The test set\n",
    "        - The train set"
   ]
  },
  {
   "cell_type": "code",
   "execution_count": 12,
   "metadata": {},
   "outputs": [
    {
     "name": "stdout",
     "output_type": "stream",
     "text": [
      "Real Population % \n",
      "0    0.752156\n",
      "1    0.247844\n",
      "Name: 0, dtype: float64\n",
      "\n",
      "y_train %\n",
      "0    0.75114\n",
      "1    0.24886\n",
      "Name: 0, dtype: float64\n",
      "\n",
      "y_test %\n",
      "0    0.756219\n",
      "1    0.243781\n",
      "Name: 0, dtype: float64\n"
     ]
    }
   ],
   "source": [
    "print(\"Real Population % \")\n",
    "print(pd.DataFrame(income).iloc[:,0].value_counts()/len(income))\n",
    "print(\"\\ny_train %\")\n",
    "print(pd.DataFrame(y_train).iloc[:,0].value_counts()/len(y_train))\n",
    "print(\"\\ny_test %\")\n",
    "print(pd.DataFrame(y_test).iloc[:,0].value_counts()/len(y_test))"
   ]
  },
  {
   "cell_type": "markdown",
   "metadata": {},
   "source": [
    "Yes! The percentages remain constant in the real population, train test as well as the test set. "
   ]
  },
  {
   "cell_type": "markdown",
   "metadata": {},
   "source": [
    "----\n",
    "## Evaluating Model Performance\n",
    "- In this section, we will investigate four different algorithms, and determine which is best at modeling the data. \n",
    "- Three of these algorithms will be supervised learners of your choice, and the fourth algorithm is known as a *naive predictor*."
   ]
  },
  {
   "cell_type": "markdown",
   "metadata": {},
   "source": [
    "### Metrics and the Naive Predictor\n",
    "*CharityML*, equipped with their research, knows individuals that make more than \\$50,000 are most likely to donate to their charity. Because of this, *CharityML* is particularly interested in predicting who makes more than \\$50,000 accurately. It would seem that using **accuracy** as a metric for evaluating a particular model's performace would be appropriate. Additionally, identifying someone that *does not* make more than \\$50,000 as someone who does would be detrimental to *CharityML*, since they are looking to find individuals willing to donate. Therefore, a model's ability to precisely predict those that make more than \\$50,000 is *more important* than the model's ability to **recall** those individuals. We can use **F-beta score** as a metric that considers both precision and recall:\n",
    "\n",
    "$$ F_{\\beta} = (1 + \\beta^2) \\cdot \\frac{precision \\cdot recall}{\\left( \\beta^2 \\cdot precision \\right) + recall} $$\n",
    "\n",
    "In particular, when $\\beta = 0.5$, more emphasis is placed on precision. This is called the **F$_{0.5}$ score** (or F-score for simplicity).\n",
    "\n",
    "Looking at the distribution of classes (those who make at most \\$50,000, and those who make more), it's clear most individuals do not make more than \\$50,000. This can greatly affect **accuracy**, since we could simply say *\"this person does not make more than \\$50,000\"* and generally be right, without ever looking at the data! Making such a statement would be called **naive**, since we have not considered any information to substantiate the claim. It is always important to consider the *naive prediction* for your data, to help establish a benchmark for whether a model is performing well. That been said, using that prediction would be pointless: If we predicted all people made less than \\$50,000, *CharityML* would identify no one as donors. \n",
    "\n",
    "\n",
    "#### Note: Recap of accuracy, precision, recall\n",
    "\n",
    "** Accuracy ** measures how often the classifier makes the correct prediction. It’s the ratio of the number of correct predictions to the total number of predictions (the number of test data points).\n",
    "\n",
    "** Precision ** tells us what proportion of messages we classified as spam, actually were spam.\n",
    "It is a ratio of true positives(words classified as spam, and which are actually spam) to all positives(all words classified as spam, irrespective of whether that was the correct classificatio), in other words it is the ratio of\n",
    "\n",
    "`[True Positives/(True Positives + False Positives)]`\n",
    "\n",
    "** Recall(sensitivity)** tells us what proportion of messages that actually were spam were classified by us as spam.\n",
    "It is a ratio of true positives(words classified as spam, and which are actually spam) to all the words that were actually spam, in other words it is the ratio of\n",
    "\n",
    "`[True Positives/(True Positives + False Negatives)]`\n",
    "\n",
    "For classification problems that are skewed in their classification distributions like in our case, for example if we had a 100 text messages and only 2 were spam and the rest 98 weren't, accuracy by itself is not a very good metric. We could classify 90 messages as not spam(including the 2 that were spam but we classify them as not spam, hence they would be false negatives) and 10 as spam(all 10 false positives) and still get a reasonably good accuracy score. For such cases, precision and recall come in very handy. These two metrics can be combined to get the F1 score, which is weighted average(harmonic mean) of the precision and recall scores. This score can range from 0 to 1, with 1 being the best possible F1 score(we take the harmonic mean as we are dealing with ratios)."
   ]
  },
  {
   "cell_type": "markdown",
   "metadata": {},
   "source": [
    "### Question 1 - Naive Predictor Performace\n",
    "* If we chose a model that always predicted an individual made more than $50,000, what would  that model's accuracy and F-score be on this dataset? You must use the code cell below and assign your results to `'accuracy'` and `'fscore'` to be used later.\n",
    "\n",
    "** HINT: ** \n",
    "\n",
    "* When we have a model that always predicts '1' (i.e. the individual makes more than 50k) then our model will have no True Negatives(TN) or False Negatives(FN) as we are not making any negative('0' value) predictions. Therefore our Accuracy in this case becomes the same as our Precision(True Positives/(True Positives + False Positives)) as every prediction that we have made with value '1' that should have '0' becomes a False Positive; therefore our denominator in this case is the total number of records we have in total. \n",
    "* Our Recall score(True Positives/(True Positives + False Negatives)) in this setting becomes 1 as we have no False Negatives."
   ]
  },
  {
   "cell_type": "code",
   "execution_count": 13,
   "metadata": {},
   "outputs": [
    {
     "name": "stdout",
     "output_type": "stream",
     "text": [
      "Naive Predictor: [Accuracy score: 0.2478, F-score: 0.2917]\n"
     ]
    }
   ],
   "source": [
    "'''\n",
    "TP = np.sum(income) # Counting the ones as this is the naive case. Note that 'income' is the 'income_raw' data \n",
    "encoded to numerical values done in the data preprocessing step.\n",
    "FP = income.count() - TP # Specific to the naive case\n",
    "\n",
    "TN = 0 # No predicted negatives in the naive case\n",
    "FN = 0 # No predicted negatives in the naive case\n",
    "'''\n",
    "# TODO: Calculate accuracy, precision and recall\n",
    "\n",
    "# Accuracy, here: TP/ All Data \n",
    "accuracy = n_greater_50k/n_records\n",
    "\n",
    "# Recall: TP/(TP + FN)\n",
    "recall = n_greater_50k/(n_greater_50k + 0) # No FN\n",
    "\n",
    "# Precision: TP/(TP + FP)\n",
    "precision = n_greater_50k/n_records\n",
    "\n",
    "# TODO: Calculate F-score using the formula above for beta = 0.5 and correct values for precision and recall.\n",
    "# HINT: The formula above can be written as (1 + beta**2) * (precision * recall) / ((beta**2 * precision) + recall)\n",
    "beta = 0.5\n",
    "fscore = (1 + beta**2)*(precision*recall)/(((beta**2)*precision) + recall)\n",
    "\n",
    "# Print the results \n",
    "print (\"Naive Predictor: [Accuracy score: {:.4f}, F-score: {:.4f}]\".format(accuracy, fscore))"
   ]
  },
  {
   "cell_type": "markdown",
   "metadata": {},
   "source": [
    "###  Supervised Learning Models\n",
    "**The following are some of the supervised learning models that are currently available in** [`scikit-learn`](http://scikit-learn.org/stable/supervised_learning.html) **that you may choose from:**\n",
    "- Gaussian Naive Bayes (GaussianNB)\n",
    "- Decision Trees\n",
    "- Ensemble Methods (Bagging, AdaBoost, Random Forest, Gradient Boosting)\n",
    "- K-Nearest Neighbors (KNeighbors)\n",
    "- Stochastic Gradient Descent Classifier (SGDC)\n",
    "- Support Vector Machines (SVM)\n",
    "- Logistic Regression"
   ]
  },
  {
   "cell_type": "markdown",
   "metadata": {},
   "source": [
    "### Question 2 - Model Application\n",
    "List three of the supervised learning models above that are appropriate for this problem that you will test on the census data. For each model chosen\n",
    "\n",
    "- Describe one real-world application in industry where the model can be applied. \n",
    "- What are the strengths of the model; when does it perform well?\n",
    "- What are the weaknesses of the model; when does it perform poorly?\n",
    "- What makes this model a good candidate for the problem, given what you know about the data?\n",
    "\n",
    "** HINT: **\n",
    "\n",
    "Structure your answer in the same format as above^, with 4 parts for each of the three models you pick. Please include references with your answer."
   ]
  },
  {
   "cell_type": "markdown",
   "metadata": {},
   "source": [
    "**Answer: **\n",
    "## `AdaBoostClassifier`: \n",
    "- __Describe one real-world application in an industry where the model can be applied__: \n",
    "    - This classifier can be used by various investment agencies to pitch the right investment scheme according to whether the person earns at most or more than 50,000.  \n",
    "- __What are the strengths of the model; when does it perform well?__\n",
    "    - It easily understands feature interactions and features importances when trained with decision trees/stumps by looking at how much the tree nodes that use a certain feature reduce impurity on average (across all trees/stumps). \n",
    "    - Its results are not tough to interpret. It returns:\n",
    "        - `feature_importances_` to conduct feature selection.\n",
    "        - `class probabilities`\n",
    "        - `estimator_errors_`: through which you can visually see how the results are improving after each additional classifier added.  \n",
    "\n",
    "  - Allows manual tuning of weak learners. You can remove a weak learner that may be performing very badly. \n",
    "- __What are the weaknesses of the model; when does it perform poorly?__\n",
    "    - This classifier does not work well with small datasets. It needs enough data to run a number of weak learners on and learn incrementally. \n",
    "    - `AdaBoostClassifier` is also very sensitive to outliers. In the case the outlier is misclassified, it will assign a huge penalty to that outlier.  \n",
    "- __What makes this model a good candidate for the problem, given what you know about the data?__\n",
    "    - There is ample data available for the algorithm to run many weak learners on random subsets of the data.\n",
    "    - As noted above, there are no outliers in the data. \n",
    "    - It has been known to be less prone to overfitting."
   ]
  },
  {
   "cell_type": "markdown",
   "metadata": {},
   "source": [
    "## `LogisticRegression`: \n",
    "- __Describe one real-world application in industry where the model can be applied__: \n",
    "    - This can be used by banks to pitch loan schemes to individuals based on their respective income. \n",
    "- __What are the strengths of the model; when does it perform well?__  \n",
    "    - Gives a nice probabilistic interpretation. This helps us to manually tune thresholds. \n",
    "    - Training and prediction speed is fast. \n",
    "    - It is easily regularized using the regularization parameter, `l2` or `l1`. \n",
    "- __What are the weaknesses of the model; when does it perform poorly?__\n",
    "    - They cannot learn feature interactions as well as `DecisionTrees`. \n",
    "    - Makes \"close calls\" which may lead to misclassification. For eg: If the logistic function's output is $0.51$, and the threshold is set to $0.50$, the data point will be classified as $1$. \n",
    "- __What makes this model a good candidate for the problem, given what you know about the data?__\n",
    "    - Using the probabilities interpretation and manually tuning thresholds could be useful. \n",
    "    - `LogisticRegression` has respectively lesser hyperparameters. This will make tuning the model easier if it works well. "
   ]
  },
  {
   "cell_type": "markdown",
   "metadata": {},
   "source": [
    "## `LinearSVC`: \n",
    "- __Describe one real-world application in industry where the model can be applied__: \n",
    "    - This can be used by realtors to understand which houses individuals may be interested in based on their income. \n",
    "- __What are the strengths of the model; when does it perform well?__\n",
    "    - Accuracy and Overfitting are easily controlled by parameter `C`. \n",
    "    - They work well with non-linear separation as well.  \n",
    "- __What are the weaknesses of the model; when does it perform poorly?__\n",
    "    - They are memory intensive and take time to train. \n",
    "    - They are very sensitive to outliers. \n",
    "    - They are harder to interpret as compared to `DecisonTrees`. \n",
    "    - They don't work with large datasets. \n",
    "- __What makes this model a good candidate for the problem, given what you know about the data?__\n",
    "    - This model may perform well if there is a clear marginal separation between the two classes. \n",
    "    - As noted above, there are no outliers in the data so `LinearSVC` will not have a problem performing well. "
   ]
  },
  {
   "cell_type": "markdown",
   "metadata": {},
   "source": [
    "## Comparing Estimators (default settings): "
   ]
  },
  {
   "cell_type": "code",
   "execution_count": 14,
   "metadata": {
    "collapsed": true
   },
   "outputs": [],
   "source": [
    "from sklearn.metrics import fbeta_score\n",
    "from sklearn.metrics import make_scorer\n",
    "\n",
    "# Making a F_0.5 scorer for comparing all classifiers\n",
    "scorer = make_scorer(fbeta_score, beta = 0.5)\n",
    "\n",
    "from sklearn.model_selection import cross_val_score\n",
    "def scores(estimator, X_train, y_train):\n",
    "    \"\"\"\n",
    "    Inputs:\n",
    "        - estimator: Classifier\n",
    "        - X_train: The training features\n",
    "        - y_train: The training labels\n",
    "        \n",
    "    Outputs: \n",
    "    Series with:\n",
    "        - 3-fold cross validation scores \n",
    "        - Mean of cross validation scores\n",
    "        - Std_dev of cross validation scores\n",
    "        - Training time \n",
    "    \"\"\"\n",
    "    start = time()\n",
    "    estimator.fit(X_train, y_train)\n",
    "    end = time()\n",
    "    train_time = end - start\n",
    "    \n",
    "    scores = cross_val_score(estimator,X_train,y_train,\n",
    "                        scoring = scorer, cv = 3)\n",
    "    \n",
    "    mean = scores.mean()\n",
    "    std_dev = scores.std()\n",
    "    display = np.append(np.array(scores), [mean, std_dev,\n",
    "                                          train_time]).reshape(6,1)\n",
    "    display_df = pd.DataFrame(display, index = [\"cv1\", \"cv2\", \n",
    "                                          \"cv3\",\"mean\", \"std_dev\",\n",
    "                                               \"train_time\"])\n",
    "    return display_df"
   ]
  },
  {
   "cell_type": "markdown",
   "metadata": {},
   "source": [
    "### Creating `DataFrame` comparing all estimators: "
   ]
  },
  {
   "cell_type": "code",
   "execution_count": 15,
   "metadata": {},
   "outputs": [
    {
     "data": {
      "text/html": [
       "<div>\n",
       "<style>\n",
       "    .dataframe thead tr:only-child th {\n",
       "        text-align: right;\n",
       "    }\n",
       "\n",
       "    .dataframe thead th {\n",
       "        text-align: left;\n",
       "    }\n",
       "\n",
       "    .dataframe tbody tr th {\n",
       "        vertical-align: top;\n",
       "    }\n",
       "</style>\n",
       "<table border=\"1\" class=\"dataframe\">\n",
       "  <thead>\n",
       "    <tr style=\"text-align: right;\">\n",
       "      <th></th>\n",
       "      <th>gnb_clf</th>\n",
       "      <th>lin_svm_clf</th>\n",
       "      <th>sgd_log_clf</th>\n",
       "      <th>log_reg</th>\n",
       "      <th>tree_clf</th>\n",
       "      <th>ada_clf</th>\n",
       "      <th>rnd_clf</th>\n",
       "      <th>voting_clf</th>\n",
       "    </tr>\n",
       "  </thead>\n",
       "  <tbody>\n",
       "    <tr>\n",
       "      <th>cv1</th>\n",
       "      <td>0.428287</td>\n",
       "      <td>0.678372</td>\n",
       "      <td>0.643266</td>\n",
       "      <td>0.690637</td>\n",
       "      <td>0.628028</td>\n",
       "      <td>0.727361</td>\n",
       "      <td>0.675055</td>\n",
       "      <td>0.680235</td>\n",
       "    </tr>\n",
       "    <tr>\n",
       "      <th>cv2</th>\n",
       "      <td>0.392447</td>\n",
       "      <td>0.689104</td>\n",
       "      <td>0.654220</td>\n",
       "      <td>0.689722</td>\n",
       "      <td>0.625299</td>\n",
       "      <td>0.725473</td>\n",
       "      <td>0.677330</td>\n",
       "      <td>0.671215</td>\n",
       "    </tr>\n",
       "    <tr>\n",
       "      <th>cv3</th>\n",
       "      <td>0.412520</td>\n",
       "      <td>0.681875</td>\n",
       "      <td>0.676511</td>\n",
       "      <td>0.694741</td>\n",
       "      <td>0.633198</td>\n",
       "      <td>0.728672</td>\n",
       "      <td>0.677755</td>\n",
       "      <td>0.682690</td>\n",
       "    </tr>\n",
       "    <tr>\n",
       "      <th>mean</th>\n",
       "      <td>0.411085</td>\n",
       "      <td>0.683117</td>\n",
       "      <td>0.657999</td>\n",
       "      <td>0.691700</td>\n",
       "      <td>0.628842</td>\n",
       "      <td>0.727169</td>\n",
       "      <td>0.676713</td>\n",
       "      <td>0.678047</td>\n",
       "    </tr>\n",
       "    <tr>\n",
       "      <th>std_dev</th>\n",
       "      <td>0.014667</td>\n",
       "      <td>0.004468</td>\n",
       "      <td>0.013833</td>\n",
       "      <td>0.002183</td>\n",
       "      <td>0.003276</td>\n",
       "      <td>0.001313</td>\n",
       "      <td>0.001185</td>\n",
       "      <td>0.004934</td>\n",
       "    </tr>\n",
       "    <tr>\n",
       "      <th>train_time</th>\n",
       "      <td>0.133046</td>\n",
       "      <td>13.891110</td>\n",
       "      <td>0.228244</td>\n",
       "      <td>0.332679</td>\n",
       "      <td>0.557170</td>\n",
       "      <td>1.838031</td>\n",
       "      <td>0.790950</td>\n",
       "      <td>3.658658</td>\n",
       "    </tr>\n",
       "  </tbody>\n",
       "</table>\n",
       "</div>"
      ],
      "text/plain": [
       "             gnb_clf  lin_svm_clf  sgd_log_clf   log_reg  tree_clf   ada_clf  \\\n",
       "cv1         0.428287     0.678372     0.643266  0.690637  0.628028  0.727361   \n",
       "cv2         0.392447     0.689104     0.654220  0.689722  0.625299  0.725473   \n",
       "cv3         0.412520     0.681875     0.676511  0.694741  0.633198  0.728672   \n",
       "mean        0.411085     0.683117     0.657999  0.691700  0.628842  0.727169   \n",
       "std_dev     0.014667     0.004468     0.013833  0.002183  0.003276  0.001313   \n",
       "train_time  0.133046    13.891110     0.228244  0.332679  0.557170  1.838031   \n",
       "\n",
       "             rnd_clf  voting_clf  \n",
       "cv1         0.675055    0.680235  \n",
       "cv2         0.677330    0.671215  \n",
       "cv3         0.677755    0.682690  \n",
       "mean        0.676713    0.678047  \n",
       "std_dev     0.001185    0.004934  \n",
       "train_time  0.790950    3.658658  "
      ]
     },
     "execution_count": 15,
     "metadata": {},
     "output_type": "execute_result"
    }
   ],
   "source": [
    "\"\"\"All Estimators Compared: \"\"\"\n",
    "from sklearn.naive_bayes import GaussianNB\n",
    "gnb_clf = GaussianNB()\n",
    "\n",
    "from sklearn.tree import DecisionTreeClassifier\n",
    "tree_clf = DecisionTreeClassifier(random_state = 42)\n",
    "\n",
    "from sklearn.ensemble import AdaBoostClassifier\n",
    "ada_clf = AdaBoostClassifier(random_state=42)\n",
    "\n",
    "from sklearn.linear_model import SGDClassifier\n",
    "# Logistic Regression Classifier: \n",
    "sgd_log_clf = SGDClassifier(random_state = 42, \n",
    "                       loss = \"log\")\n",
    "\n",
    "# Linear SVM: \n",
    "sgd_svm_clf = SGDClassifier(random_state = 42)\n",
    "\n",
    "from sklearn.linear_model import LogisticRegression\n",
    "log_reg = LogisticRegression(random_state = 42)\n",
    "\n",
    "from sklearn.svm import LinearSVC\n",
    "from sklearn.pipeline import Pipeline\n",
    "from sklearn.preprocessing import StandardScaler\n",
    "lin_svm_clf = Pipeline((\n",
    "        (\"scaler\", StandardScaler()),\n",
    "        (\"linear_svc\", LinearSVC(loss=\"hinge\", \n",
    "                                 random_state=42,\n",
    "                                ))))\n",
    "\n",
    "from sklearn.ensemble import RandomForestClassifier\n",
    "rnd_clf = RandomForestClassifier(random_state = 42)\n",
    "\n",
    "from sklearn.ensemble import VotingClassifier\n",
    "voting_clf = VotingClassifier(\n",
    "    estimators = [(\"ada_boost\", ada_clf),\n",
    "                 (\"rfc\", rnd_clf),\n",
    "                 (\"log_reg\", log_reg),\n",
    "                 (\"tre_clf\", tree_clf)], \n",
    "    voting = \"soft\")\n",
    "\n",
    "# Final Results DataFrame\n",
    "results = pd.DataFrame()\n",
    "\n",
    "estimators_list = [gnb_clf, lin_svm_clf, sgd_log_clf,\n",
    "                   log_reg, tree_clf, ada_clf, rnd_clf, \n",
    "                   voting_clf]\n",
    "\n",
    "for clf in estimators_list:\n",
    "    scores_clf = scores(clf, X_train, y_train)\n",
    "    results = pd.concat([results,scores_clf], axis = 1)\n",
    "    \n",
    "results.columns = [\"gnb_clf\" ,\"lin_svm_clf\",\"sgd_log_clf\",\n",
    "                   \"log_reg\",\"tree_clf\", \"ada_clf\", \"rnd_clf\" \n",
    "                   ,\"voting_clf\"]\n",
    "results"
   ]
  },
  {
   "cell_type": "markdown",
   "metadata": {},
   "source": [
    "### Plotting Training Time and Mean Cross Validation Score for each estimator: "
   ]
  },
  {
   "cell_type": "code",
   "execution_count": 16,
   "metadata": {},
   "outputs": [
    {
     "name": "stdout",
     "output_type": "stream",
     "text": [
      "Saving figure:  Comparing_SL_algorithms\n"
     ]
    },
    {
     "data": {
      "image/png": "[encoded data removed]",
      "text/plain": [
       "<matplotlib.figure.Figure at 0x10d861fd0>"
      ]
     },
     "metadata": {},
     "output_type": "display_data"
    }
   ],
   "source": [
    "plt.figure(figsize = (10,10))\n",
    "plt.subplot(211)\n",
    "results.loc[\"train_time\",:].plot(color = \"c\", fontsize = 15)\n",
    "plt.xlabel(\"Classifier\", fontsize = 20)\n",
    "plt.ylabel(\"Training_Time\", fontsize = 20 )\n",
    "\n",
    "plt.subplot(212)\n",
    "results.loc[\"mean\",:].plot(color = \"r\", fontsize = 15)\n",
    "plt.xlabel(\"Classifier\", fontsize = 20)\n",
    "plt.ylabel(\"Mean_Cross_Val_Score\", fontsize = 20 )\n",
    "save_fig(\"Comparing_SL_algorithms\")"
   ]
  },
  {
   "cell_type": "markdown",
   "metadata": {},
   "source": [
    "### Implementation - Creating a Training and Predicting Pipeline\n",
    "To properly evaluate the performance of each model you've chosen, it's important that you create a training and predicting pipeline that allows you to quickly and effectively train models using various sizes of training data and perform predictions on the testing data. Your implementation here will be used in the following section.\n",
    "In the code block below, you will need to implement the following:\n",
    " - Import `fbeta_score` and `accuracy_score` from [`sklearn.metrics`](http://scikit-learn.org/stable/modules/classes.html#sklearn-metrics-metrics).\n",
    " - Fit the learner to the sampled training data and record the training time.\n",
    " - Perform predictions on the test data `X_test`, and also on the first 300 training points `X_train[:300]`.\n",
    "   - Record the total prediction time.\n",
    " - Calculate the accuracy score for both the training subset and testing set.\n",
    " - Calculate the F-score for both the training subset and testing set.\n",
    "   - Make sure that you set the `beta` parameter!"
   ]
  },
  {
   "cell_type": "code",
   "execution_count": 17,
   "metadata": {
    "collapsed": true
   },
   "outputs": [],
   "source": [
    "# TODO: Import two metrics from sklearn - fbeta_score \n",
    "# and accuracy_score\n",
    "from sklearn.metrics import accuracy_score\n",
    "from sklearn.metrics import fbeta_score\n",
    "from sklearn.preprocessing import StandardScaler\n",
    "\n",
    "def train_predict(learner, sample_size, X_train, y_train,\n",
    "                 X_test, y_test):\n",
    "    \"\"\"\n",
    "    inputs: \n",
    "    - learner: the learning algorithm to be trained and \n",
    "    predicted on\n",
    "    - sample_size: the size of samples (number) to be drawn\n",
    "    from training set \n",
    "    - X_train: features training set\n",
    "    - y_train: income training_Set\n",
    "    - X_test: features testing set\n",
    "    - y_test: income testing set \n",
    "    \"\"\"\n",
    "    results = {}\n",
    "    \n",
    "    # TODO: Fit the learner to the training data using slicing\n",
    "    # with `sample_size` using \n",
    "    # .fit(training_features[:],training_labels[:])\n",
    "    start = time() # Get start time\n",
    "    learner = learner.fit(X_train[:sample_size],\n",
    "                          y_train[:sample_size])\n",
    "    end = time() # Get end time\n",
    "    \n",
    "    # TODO: Calculating the training time: \n",
    "    results[\"train_time\"] = end - start\n",
    "    \n",
    "    # TODO: Get the predictiong on the test set (X_test),\n",
    "    # then get prediction on the first 300 training samples\n",
    "    # using .predict()\n",
    "    start = time()\n",
    "    predictions_test = learner.predict(X_test)\n",
    "    predictions_train = learner.predict(X_train[:300])\n",
    "    end = time()\n",
    "    \n",
    "    # TODO: Calculate the total prediction time: \n",
    "    results[\"pred_time\"] = end - start\n",
    "    \n",
    "    # TODO: Compute the accuracy of the first 300 training\n",
    "    # samples which is y_train[:300]\n",
    "    results[\"acc_train\"] = accuracy_score(y_train[:300],\n",
    "                                         predictions_train)\n",
    "    \n",
    "    # TODO: Compute accuracy on the test set\n",
    "    results[\"acc_test\"] = accuracy_score(y_test, \n",
    "                                         predictions_test)\n",
    "    \n",
    "    # TODO: Compute the F-score on the first  300 training\n",
    "    # samples using fbeta_score()\n",
    "    results[\"f_train\"] = fbeta_score(y_train[:300],\n",
    "                                    predictions_train,\n",
    "                                    beta = 0.5)\n",
    "    \n",
    "    # TODO: Compute F-score on the test set which y_test\n",
    "    results['f_test'] = fbeta_score(y_test,\n",
    "                                   predictions_test,\n",
    "                                   beta = 0.5)\n",
    "    \n",
    "    # Success\n",
    "    print (\"{} trained on {} samples.\".format(learner.__class__.__name__, sample_size))\n",
    "        \n",
    "    # Return the results\n",
    "    return results"
   ]
  },
  {
   "cell_type": "markdown",
   "metadata": {},
   "source": [
    "### Implementation: Initial Model Evaluation\n",
    "In the code cell, you will need to implement the following:\n",
    "- Import the three supervised learning models you've discussed in the previous section.\n",
    "- Initialize the three models and store them in `'clf_A'`, `'clf_B'`, and `'clf_C'`.\n",
    "  - Use a `'random_state'` for each model you use, if provided.\n",
    "  - **Note:** Use the default settings for each model — you will tune one specific model in a later section.\n",
    "- Calculate the number of records equal to 1%, 10%, and 100% of the training data.\n",
    "  - Store those values in `'samples_1'`, `'samples_10'`, and `'samples_100'` respectively.\n",
    "\n",
    "**Note:** Depending on which algorithms you chose, the following implementation may take some time to run!"
   ]
  },
  {
   "cell_type": "code",
   "execution_count": 18,
   "metadata": {},
   "outputs": [
    {
     "name": "stdout",
     "output_type": "stream",
     "text": [
      "AdaBoostClassifier trained on 361 samples.\n",
      "AdaBoostClassifier trained on 3617 samples.\n",
      "AdaBoostClassifier trained on 36177 samples.\n",
      "LogisticRegression trained on 361 samples.\n",
      "LogisticRegression trained on 3617 samples.\n",
      "LogisticRegression trained on 36177 samples.\n",
      "Pipeline trained on 361 samples.\n",
      "Pipeline trained on 3617 samples.\n",
      "Pipeline trained on 36177 samples.\n"
     ]
    },
    {
     "data": {
      "image/png": "[encoded data removed]",
      "text/plain": [
       "<matplotlib.figure.Figure at 0x113f0bda0>"
      ]
     },
     "metadata": {},
     "output_type": "display_data"
    }
   ],
   "source": [
    "# TODO: Import the three supervised learning model from\n",
    "# sklearn\n",
    "from sklearn.ensemble import AdaBoostClassifier\n",
    "from sklearn.linear_model import LogisticRegression\n",
    "from sklearn.svm import LinearSVC\n",
    "from sklearn.pipeline import Pipeline\n",
    "\n",
    "# TODO: Initialize the three models: \n",
    "clf_A = AdaBoostClassifier(random_state = 42)\n",
    "clf_B = LogisticRegression(random_state = 42)\n",
    "clf_C = Pipeline((\n",
    "        (\"scaler\", StandardScaler()),\n",
    "        (\"lin_svc\", LinearSVC(random_state=42))))\n",
    "\n",
    "# TODO: Calculate the number of samples for 1%, 10%, 100% of\n",
    "# the training data\n",
    "# HINT: sample_100 is the entire training set i.e len(y_train)\n",
    "# HINT: sample_10 is 10% of samples_100\n",
    "# HINT: sample_1 is 1% of samples_100\n",
    "samples_100 = len(X_train)\n",
    "samples_10 = len(X_train)//10\n",
    "samples_1 = len(X_train)//100 # Changed to suit AdaBoosClassifier \n",
    "\n",
    "# Collect results on the learners: \n",
    "results = {}\n",
    "\n",
    "for clf in [clf_A, clf_B, clf_C]:\n",
    "    clf_name = clf.__class__.__name__\n",
    "    results[clf_name] = {}\n",
    "    for i , samples in enumerate([samples_1, samples_10,\n",
    "                                  samples_100]): # [(0, 5), (1, 10), (2, 100)]\n",
    "        results[clf_name][i] = \\\n",
    "        train_predict(clf, samples, X_train, y_train, X_test,\n",
    "                     y_test)\n",
    "        \n",
    "# Run metrics visualisation for the three supervised learning\n",
    "# models chosen\n",
    "vs.evaluate(results, accuracy, fscore)"
   ]
  },
  {
   "cell_type": "markdown",
   "metadata": {},
   "source": [
    "----\n",
    "## Improving Results\n",
    "- In this final section, you will choose from the three supervised learning models the *best* model to use on the student data.\n",
    "- You will then perform a grid search optimization for the model over the entire training set (`X_train` and `y_train`) by tuning at least one parameter to improve upon the untuned model's F-score. "
   ]
  },
  {
   "cell_type": "code",
   "execution_count": 20,
   "metadata": {},
   "outputs": [
    {
     "data": {
      "text/html": [
       "<div>\n",
       "<style>\n",
       "    .dataframe thead tr:only-child th {\n",
       "        text-align: right;\n",
       "    }\n",
       "\n",
       "    .dataframe thead th {\n",
       "        text-align: left;\n",
       "    }\n",
       "\n",
       "    .dataframe tbody tr th {\n",
       "        vertical-align: top;\n",
       "    }\n",
       "</style>\n",
       "<table border=\"1\" class=\"dataframe\">\n",
       "  <thead>\n",
       "    <tr style=\"text-align: right;\">\n",
       "      <th></th>\n",
       "      <th>acc_test</th>\n",
       "      <th>acc_train</th>\n",
       "      <th>f_test</th>\n",
       "      <th>f_train</th>\n",
       "      <th>pred_time</th>\n",
       "      <th>train_time</th>\n",
       "    </tr>\n",
       "  </thead>\n",
       "  <tbody>\n",
       "    <tr>\n",
       "      <th>ada_clf</th>\n",
       "      <td>0.857601</td>\n",
       "      <td>0.850000</td>\n",
       "      <td>0.724551</td>\n",
       "      <td>0.711538</td>\n",
       "      <td>0.083069</td>\n",
       "      <td>1.861807</td>\n",
       "    </tr>\n",
       "    <tr>\n",
       "      <th>log_reg</th>\n",
       "      <td>0.841902</td>\n",
       "      <td>0.846667</td>\n",
       "      <td>0.683165</td>\n",
       "      <td>0.698529</td>\n",
       "      <td>0.006062</td>\n",
       "      <td>0.316951</td>\n",
       "    </tr>\n",
       "    <tr>\n",
       "      <th>lin_svm</th>\n",
       "      <td>0.840354</td>\n",
       "      <td>0.846667</td>\n",
       "      <td>0.681113</td>\n",
       "      <td>0.700758</td>\n",
       "      <td>0.013614</td>\n",
       "      <td>20.469305</td>\n",
       "    </tr>\n",
       "  </tbody>\n",
       "</table>\n",
       "</div>"
      ],
      "text/plain": [
       "         acc_test  acc_train    f_test   f_train  pred_time  train_time\n",
       "ada_clf  0.857601   0.850000  0.724551  0.711538   0.083069    1.861807\n",
       "log_reg  0.841902   0.846667  0.683165  0.698529   0.006062    0.316951\n",
       "lin_svm  0.840354   0.846667  0.681113  0.700758   0.013614   20.469305"
      ]
     },
     "execution_count": 20,
     "metadata": {},
     "output_type": "execute_result"
    }
   ],
   "source": [
    "# Results after training on the whole training set:\n",
    "results_ = pd.DataFrame()\n",
    "# Note, 2 here means to access the train/test time and scores \n",
    "# when the whole training data was used. \n",
    "results_ = results_.append(pd.Series(results[\"AdaBoostClassifier\"][2], name = \"ada_clf\"))\n",
    "results_ = results_.append(pd.Series(results[\"LogisticRegression\"][2], name = \"log_reg\"))\n",
    "results_ = results_.append(pd.Series(results[\"Pipeline\"][2], name = \"lin_svm\"))\n",
    "results_\n"
   ]
  },
  {
   "cell_type": "markdown",
   "metadata": {},
   "source": [
    "### Question 3 - Choosing the Best Model\n",
    "\n",
    "* Based on the evaluation you performed earlier, in one to two paragraphs, explain to *CharityML* which of the three models you believe to be most appropriate for the task of identifying individuals that make more than \\$50,000. \n",
    "\n",
    "** HINT: ** \n",
    "Look at the graph at the bottom left from the cell above(the visualization created by `vs.evaluate(results, accuracy, fscore)`) and check the F score for the testing set when 100% of the training set is used. Which model has the highest score? Your answer should include discussion of the:\n",
    "* metrics - F score on the testing when 100% of the training data is used, \n",
    "* prediction/training time\n",
    "* the algorithm's suitability for the data."
   ]
  },
  {
   "cell_type": "markdown",
   "metadata": {},
   "source": [
    "**Answer: **  \n",
    "\n",
    "- I think __`AdaBoostClassifier`__ is most appropriate for identifying individuals that make more than $\\$50,000.$\n",
    "- __Accuracy on `test set`__: \n",
    "    - It gets an accuracy of $86\\%$ (aprx) on the `test set` as compared to other two models: \n",
    "        - 84% with both `LogisticRegression` and `LinearSVC`  \n",
    "        \n",
    "> This means it correctly labels $86\\%$ of the data.   \n",
    "\n",
    "- __F-score on `test set`__:\n",
    "    - It gets an F-score of $\\approx 0.72$  on the `test set` as compared to the other two models: \n",
    "       - $\\approx 0.68$ with both `LogisticRegression` and `LinearSVC`\n",
    "    - This means that the `AdaBoostClassifier` has good _precision_, as well as _recall_. \n",
    "    > - In other words, the model is __good__ at the following two things:\n",
    "        - _Finding most_ of the people who earn more than \\$50,000 out of the ones who do.  \n",
    "        - Correctly labeling a person _positive_ (i.e, to be earning more than $\\$50,000$). Conversely, __not__ labeling a person as _positive_ when the person does not earn more than $\\$50,000$. \n",
    "\n",
    "- __Training time__: \n",
    "    - It takes low to moderate amount of time to train on the whole `training set`, $\\approx 2$ seconds which is way less as compared to `LinearSVC`'s training time, $\\approx 22$ seconds. \n",
    "        - This will be essential if we have to tune the `hyparameters` of the model to see which combination of `hyperparameters` works best. \n",
    "        - It also proves that this will scale well with more training examples.\n",
    "- __Prediction time__: \n",
    "    - The only place where this algorithm performs slightly worse than the other two is prediction time. It takes the longest to predict, $\\approx 0.09$ seconds on the `test set`, which is still quite fast."
   ]
  },
  {
   "cell_type": "markdown",
   "metadata": {},
   "source": [
    "### Question 4 - Describing the Model in Layman's Terms\n",
    "\n",
    "* In one to two paragraphs, explain to *CharityML*, in layman's terms, how the final model chosen is supposed to work. Be sure that you are describing the major qualities of the model, such as how the model is trained and how the model makes a prediction. Avoid using advanced mathematical jargon, such as describing equations.\n",
    "\n",
    "** HINT: **\n",
    "\n",
    "When explaining your model, if using external resources please include all citations.  "
   ]
  },
  {
   "cell_type": "markdown",
   "metadata": {},
   "source": [
    "**Answer:**    \n",
    "\n",
    "__Some definitions:__ \n",
    "- A __classifier__ is an algorithm which maps input data to a category. Here, the input data is details about a person (age, sex, education, occupation, etc.) and the categories are _\" Earns more than or equal to $\\$50,000$\"_ or _\"Earns less than $\\$50,000$\"_.    \n",
    "- A bunch of classifiers is known as an __ensemble__. \n",
    "- `AdaBoostClassier` is one of the __Ensemble Learning__  techniques in machine learning. \n",
    "- A __weak leaner__ is a classifier which does slightly better than random guessing. \n",
    "- _Ensemble Learning_ uses _wisdom of the crowd_. In other words, it aggregates the predictions of a bunch of weak learners to arrive at a final answer.   \n",
    "- Specifically, `AdaBoostClassifier` is one of the __boosting__ methods. __Boosting__ refers to an _ensemble learning_ technique wherein many weak learners/classifiers are trained _sequentially_, each of which tries to correct its predecessor.     \n",
    "\n",
    "__How does it train and predict?__  \n",
    "- Each instance's _weight_ is set to $\\frac{1}{m}$ initially, where $m$ is the number of instances in the input data. \n",
    "- The first base classifier is trained and used to make predictions on the training set.   \n",
    "- The classifier's weight is computed. The more accurate the classifier is, the higher weight it gets. If the classifier is just guessing, its weight will be close to 0. And if it is most often wrong, its weight will be negative. \n",
    "- Then, the relative weight of the misclassified training instances is increased. \n",
    "- Sequentially, a second classifier is trained using the updated instance weights and the whole process is repeated, i.e. the new classifier's weight is computed, the instance's weights are updated,  a new classifier is trained, and so on.   \n",
    "- The process stops when the desired number of classifiers are trained. \n",
    "- To make predictions, `AdaBoostClassifier` simply computes the predictions of all the classifiers and weighs them using the classifier weights calculated. \n",
    "- The predicted class is the one that receives _majority_ of the _weighted votes_.   \n",
    "\n",
    "__References:__  \n",
    "[Hands-On Machine Learning with Scikit-Learn and TensorFlow](https://www.amazon.in/dp/B06XNKV5TS/ref=dp-kindle-redirect?_encoding=UTF8&btkr=1 )"
   ]
  },
  {
   "cell_type": "markdown",
   "metadata": {},
   "source": [
    "### Implementation: Model Tuning\n",
    "Fine tune the chosen model. Use grid search (`GridSearchCV`) with at least one important parameter tuned with at least 3 different values. You will need to use the entire training set for this. In the code cell below, you will need to implement the following:\n",
    "- Import [`sklearn.grid_search.GridSearchCV`](http://scikit-learn.org/0.17/modules/generated/sklearn.grid_search.GridSearchCV.html) and [`sklearn.metrics.make_scorer`](http://scikit-learn.org/stable/modules/generated/sklearn.metrics.make_scorer.html).\n",
    "- Initialize the classifier you've chosen and store it in `clf`.\n",
    " - Set a `random_state` if one is available to the same state you set before.\n",
    "- Create a dictionary of parameters you wish to tune for the chosen model.\n",
    " - Example: `parameters = {'parameter' : [list of values]}`.\n",
    " - **Note:** Avoid tuning the `max_features` parameter of your learner if that parameter is available!\n",
    "- Use `make_scorer` to create an `fbeta_score` scoring object (with $\\beta = 0.5$).\n",
    "- Perform grid search on the classifier `clf` using the `'scorer'`, and store it in `grid_obj`.\n",
    "- Fit the grid search object to the training data (`X_train`, `y_train`), and store it in `grid_fit`.\n",
    "\n",
    "**Note:** Depending on the algorithm chosen and the parameter list, the following implementation may take some time to run!"
   ]
  },
  {
   "cell_type": "markdown",
   "metadata": {},
   "source": [
    "### Note: The `learning_rate` parameter is set to `0.3` after tuning multiple models in a seperate jupyter notebook. Each had a different `learning rate`. "
   ]
  },
  {
   "cell_type": "code",
   "execution_count": 21,
   "metadata": {
    "collapsed": true
   },
   "outputs": [],
   "source": [
    "# TODO: Import 'GridSearchCV', 'make_scorer', \n",
    "# and any other necessary libraries\n",
    "from sklearn.model_selection import GridSearchCV\n",
    "from sklearn.metrics import make_scorer\n",
    "from sklearn.metrics import fbeta_score\n",
    "from sklearn.tree import DecisionTreeClassifier\n",
    "from sklearn.ensemble import AdaBoostClassifier\n",
    "\n",
    "# TODO: Initialize the classifier\n",
    "tree_clf = DecisionTreeClassifier(random_state = 42)\n",
    "ada_clf = AdaBoostClassifier(base_estimator = tree_clf,\n",
    "                             random_state = 42, \n",
    "                            learning_rate=0.3)\n",
    "\n",
    "# TODO: Create the parameters list you wish to tune, \n",
    "# using a dictionary if needed.\n",
    "# HINT: parameters = {'parameter_1': [value1, value2], \n",
    "# 'parameter_2': [value1, value2]}\n",
    "\n",
    "parameters = {\n",
    "    \"base_estimator__max_depth\":[1,2,4,8],\n",
    "    \"base_estimator__min_samples_leaf\":[10,100],\n",
    "    \"base_estimator__min_samples_split\":[10, 100, 200, 500,1000],\n",
    "    \"n_estimators\": [10, 50, 100, 500]}\n",
    "\n",
    "# TODO: Make an fbeta_score scoring object using \n",
    "# make_scorer()\n",
    "scorer = make_scorer(fbeta_score, beta = 0.5)\n",
    "\n",
    "# TODO: Perform grid search on the classifier using 'scorer'\n",
    "# as the scoring method using GridSearchCV()\n",
    "grid_obj = GridSearchCV(ada_clf, param_grid = parameters,\n",
    "                       scoring = scorer, cv = 3)"
   ]
  },
  {
   "cell_type": "code",
   "execution_count": 22,
   "metadata": {
    "collapsed": true
   },
   "outputs": [],
   "source": [
    "# TODO: Fit the grid search object to the training data \n",
    "# and find the optimal parameters using fit()\n",
    "grid_fit = grid_obj.fit(X_train, y_train)"
   ]
  },
  {
   "cell_type": "code",
   "execution_count": 23,
   "metadata": {
    "collapsed": true
   },
   "outputs": [],
   "source": [
    "# Get the estimator\n",
    "best_clf = grid_fit.best_estimator_"
   ]
  },
  {
   "cell_type": "code",
   "execution_count": 24,
   "metadata": {
    "collapsed": true
   },
   "outputs": [],
   "source": [
    "# Make predictions using the unoptimized and model\n",
    "predictions = (ada_clf.fit(X_train, y_train)).predict(X_test)\n",
    "best_predictions = best_clf.predict(X_test)"
   ]
  },
  {
   "cell_type": "code",
   "execution_count": 25,
   "metadata": {},
   "outputs": [
    {
     "name": "stdout",
     "output_type": "stream",
     "text": [
      "Unoptimized model\n",
      "------\n",
      "Accuracy score on testing data: 0.8165\n",
      "F-score on testing data: 0.6234\n",
      "\n",
      "Optimized Model\n",
      "------\n",
      "Final accuracy score on the testing data: 0.8714\n",
      "Final F-score on the testing data: 0.7534\n"
     ]
    }
   ],
   "source": [
    "# Report the before-and-afterscores\n",
    "print (\"Unoptimized model\\n------\")\n",
    "print (\"Accuracy score on testing data: {:.4f}\".format(accuracy_score(y_test, predictions)))\n",
    "print (\"F-score on testing data: {:.4f}\".format(fbeta_score(y_test, predictions, beta = 0.5)))\n",
    "print (\"\\nOptimized Model\\n------\")\n",
    "print (\"Final accuracy score on the testing data: {:.4f}\".format(accuracy_score(y_test, best_predictions)))\n",
    "print (\"Final F-score on the testing data: {:.4f}\".format(fbeta_score(y_test, best_predictions, beta = 0.5)))"
   ]
  },
  {
   "cell_type": "code",
   "execution_count": 26,
   "metadata": {},
   "outputs": [
    {
     "data": {
      "text/plain": [
       "['best_clf.pkl']"
      ]
     },
     "execution_count": 26,
     "metadata": {},
     "output_type": "execute_result"
    }
   ],
   "source": [
    "# Saving the model\n",
    "from sklearn.externals import joblib\n",
    "joblib.dump(best_clf, \"best_clf.pkl\")\n",
    "# best_clf_loaded = joblib.load(\"best_clf.pkl\")"
   ]
  },
  {
   "cell_type": "markdown",
   "metadata": {},
   "source": [
    "### Question 5 - Final Model Evaluation\n",
    "\n",
    "* What is your optimized model's accuracy and F-score on the testing data? \n",
    "* Are these scores better or worse than the unoptimized model? \n",
    "* How do the results from your optimized model compare to the naive predictor benchmarks you found earlier in **Question 1**?_  \n",
    "\n",
    "**Note:** Fill in the table below with your results, and then provide discussion in the **Answer** box."
   ]
  },
  {
   "cell_type": "markdown",
   "metadata": {},
   "source": [
    "#### Results:\n",
    "\n",
    "|     Metric     | Benchmark Predictor | Unoptimized Model | Optimized Model |\n",
    "| :------------: | :-----------------: | :---------------: | :-------------: |\n",
    "| Accuracy Score |     0.2478          |     0.8165        |   0.8714        |\n",
    "| F-score        |    0.2917           |     0.6234        |   0.7534        |\n"
   ]
  },
  {
   "cell_type": "markdown",
   "metadata": {},
   "source": [
    "**Answer:**  \n",
    "- __What are your optimized model's accuracy and F-score on the testing data?__   \n",
    "    - __`Accuracy`__: $\\approx87\\%$\n",
    "    - __`F-Score`__: $\\approx0.75$\n",
    "- __Are these scores better or worse than the unoptimized model? __\n",
    "    - __`Accuracy`__: The optimised model's accuracy is better than the unoptimized model's accuracy by $\\approx5\\%$. \n",
    "        - This means that model will now correctly label $\\approx5\\%$ more of the data than it used to with the unoptimised model. \n",
    "    - __`F-score`__: The optimised model's f-score is better than the unoptimized model's f-score by $0.12$ which means there has been a significant increase in both precision and recall. \n",
    "- __How do the results from your optimized model compare to the naive predictor benchmarks you found earlier in **Question 1**?__\n",
    "    - __`Accuracy`__: The optimised model's accuracy is better than the naive predictor's accuracy by $\\approx61\\%$. \n",
    "        - The naive predictor correctly labeled only $\\approx25\\%$ of the data, which is miles apart from the optimised model, which correctly labels $\\approx87\\%$ of the data. \n",
    "    - __`F-score`__: The optimised model's f-score is better than the unoptimized model's f-score by $\\approx0.46$, which is a huge difference! The naive predictor had neither a good precision nor a good recall. "
   ]
  },
  {
   "cell_type": "markdown",
   "metadata": {},
   "source": [
    "----\n",
    "## Feature Importance\n",
    "\n",
    "- An important task when performing supervised learning on a dataset like the census data we study here is determining which features provide the most predictive power. \n",
    "- By focusing on the relationship between only a few crucial features and the target label we simplify our understanding of the phenomenon, which is most always a useful thing to do. \n",
    "- In the case of this project, that means we wish to identify a small number of features that most strongly predict whether an individual makes at most or more than $\\$50,000.$\n",
    "\n",
    "- Choose a scikit-learn classifier (e.g., adaboost, random forests) that has a `feature_importance_` attribute, which is a function that ranks the importance of features according to the chosen classifier.  \n",
    "- In the next python cell fit this classifier to training set and use this attribute to determine the top 5 most important features for the census dataset."
   ]
  },
  {
   "cell_type": "markdown",
   "metadata": {},
   "source": [
    "### Question 6 - Feature Relevance Observation\n",
    "When **Exploring the Data**, it was shown there are thirteen available features for each individual on record in the census data. Of these thirteen records, which five features do you believe to be most important for prediction, and in what order would you rank them and why?"
   ]
  },
  {
   "cell_type": "markdown",
   "metadata": {},
   "source": [
    "**Answer:**\n",
    "1.   __`age`__: Income is usually positively correlated for people between 20 and 50, then, it becomes negatively correlated after age 50. \n",
    "2. __`education-num`__: Your education defines how high a salary a person gets. \n",
    "3.  __`hours-per-week`__: The more work a person puts in, the more his/her income should be. \n",
    "4. __`workclass`__: The kind of `workclass` greately affects the income along with the `hours-per-week`. A person in `Private` job dedicating less `hours-per-week` than a person in a `Local-gov` job, still may be earning more than the person in a `Local-gov` job. \n",
    "5. __`native-country`__: income of a person hugely depends on the economy and living standard of the country. "
   ]
  },
  {
   "cell_type": "markdown",
   "metadata": {},
   "source": [
    "### Implementation - Extracting Feature Importance\n",
    "Choose a `scikit-learn` supervised learning algorithm that has a `feature_importance_` attribute availble for it. This attribute is a function that ranks the importance of each feature when making predictions based on the chosen algorithm.\n",
    "\n",
    "In the code cell below, you will need to implement the following:\n",
    " - Import a supervised learning model from sklearn if it is different from the three used earlier.\n",
    " - Train the supervised model on the entire training set.\n",
    " - Extract the feature importances using `'.feature_importances_'`."
   ]
  },
  {
   "cell_type": "code",
   "execution_count": 27,
   "metadata": {},
   "outputs": [
    {
     "data": {
      "image/png": "[encoded data removed]",
      "text/plain": [
       "<matplotlib.figure.Figure at 0x11306a2e8>"
      ]
     },
     "metadata": {},
     "output_type": "display_data"
    }
   ],
   "source": [
    "# TODO: Import a supervised learning model that has 'feature_importances_'\n",
    "# >> Already Done\n",
    "\n",
    "# TODO: Train the supervised model on the training set using .\n",
    "# fit(X_train, y_train)\n",
    "model = None\n",
    "# >> Already Done\n",
    "\n",
    "# TODO: Extract the feature importances using .feature_importances_ \n",
    "importances = best_clf.feature_importances_\n",
    "\n",
    "# Plot\n",
    "vs.feature_plot(importances, X_train, y_train)"
   ]
  },
  {
   "cell_type": "markdown",
   "metadata": {},
   "source": [
    "### Question 7 - Extracting Feature Importance\n",
    "\n",
    "Observe the visualization created above which displays the five most relevant features for predicting if an individual makes at most or above \\$50,000.  \n",
    "* How do these five features compare to the five features you discussed in **Question 6**?\n",
    "* If you were close to the same answer, how does this visualization confirm your thoughts? \n",
    "* If you were not close, why do you think these features are more relevant?"
   ]
  },
  {
   "cell_type": "markdown",
   "metadata": {},
   "source": [
    "**Answer:**   \n",
    "- I was right about most of the features which are important, except `workclass` and `native-country`. Doing some digging, I found at that `workclass_ Federal-gov`, `workclass_ Local-gov`, `workclass_ Private`, `workclass_ Self-emp-inc` and `workclass_ Self-emp-not-inc` are in the top $10$, not in the top $5$.   \n",
    "- Furthermore, I thought being in a country with good economic conditions will affect a person's income a lot! Somehow, most of the `native_country` dummy variables lie after $60^{th}$ most important feature. Their importance is either close to $0$, or $0$. \n",
    "- I completely missed out on `capital-gain` and `capital-loss`. This is probably because I did not understand what the features represented in the beginning. \n",
    "- A `capital-gain` refers to increase in the value of a capital asset (investment or real estate), and conversely `capital-loss` refers to fall in the value of a capital asset. \n",
    "- The confusing part for me was that I was thinking of `capital-gain` as notional-gain (estimated gain) without selling the capital asset. I later found out that `capital-gain` or `capital-loss` only occurs after the sale of a capital asset, which is directly linked to the person's income. "
   ]
  },
  {
   "cell_type": "markdown",
   "metadata": {},
   "source": [
    "### Feature Selection\n",
    "How does a model perform if we only use a subset of all the available features in the data? With less features required to train, the expectation is that training and prediction time is much lower — at the cost of performance metrics. From the visualization above, we see that the top five most important features contribute more than half of the importance of **all** features present in the data. This hints that we can attempt to *reduce the feature space* and simplify the information required for the model to learn. The code cell below will use the same optimized model you found earlier, and train it on the same training set *with only the top five important features*. "
   ]
  },
  {
   "cell_type": "code",
   "execution_count": 28,
   "metadata": {},
   "outputs": [
    {
     "name": "stdout",
     "output_type": "stream",
     "text": [
      "Final Model trained on full data\n",
      "------\n",
      "Accuracy on testing data: 0.8714\n",
      "F-score on testing data: 0.7534\n",
      "\n",
      "Final Model trained on reduced data\n",
      "------\n",
      "Accuracy on testing data: 0.8430\n",
      "F-score on testing data: 0.7001\n",
      "Training Time: 8.958592891693115\n",
      "Prediction Time: 0.572228193283081\n"
     ]
    }
   ],
   "source": [
    "# Import functionality for cloning a model\n",
    "from sklearn.base import clone\n",
    "\n",
    "# Return the indices that would sort the importances\n",
    "# in descending order\n",
    "desc_importances = np.argsort(importances)[::-1]\n",
    "best_features_ix = desc_importances[:5]\n",
    "best_features = X_train.columns.values[best_features_ix]\n",
    "\n",
    "# Reduce the feature space\n",
    "X_train_reduced = X_train[best_features]\n",
    "X_test_reduced = X_test[best_features]\n",
    "\n",
    "# Train on the \"best\" model found from grid search earlier\n",
    "start = time()\n",
    "clf = clone(best_clf).fit(X_train_reduced, y_train)\n",
    "end = time()\n",
    "train_time = end - start\n",
    "\n",
    "# Make new predictions \n",
    "start = time()\n",
    "reduced_predictions = clf.predict(X_test_reduced)\n",
    "end = time()\n",
    "pred_time = end - start \n",
    "\n",
    "# Report scores from the final model using both versions of data\n",
    "print (\"Final Model trained on full data\\n------\")\n",
    "print (\"Accuracy on testing data: {:.4f}\".format(accuracy_score(y_test, best_predictions)))\n",
    "print (\"F-score on testing data: {:.4f}\".format(fbeta_score(y_test, best_predictions, beta = 0.5)))\n",
    "print (\"\\nFinal Model trained on reduced data\\n------\")\n",
    "print (\"Accuracy on testing data: {:.4f}\".format(accuracy_score(y_test, reduced_predictions)))\n",
    "print (\"F-score on testing data: {:.4f}\".format(fbeta_score(y_test, reduced_predictions, beta = 0.5)))\n",
    "print (\"Training Time: {}\".format(train_time))\n",
    "print(\"Prediction Time: {}\".format(pred_time))"
   ]
  },
  {
   "cell_type": "markdown",
   "metadata": {},
   "source": [
    "### Question 8 - Effects of Feature Selection\n",
    "\n",
    "* How does the final model's F-score and accuracy score on the reduced data using only five features compare to those same scores when all features are used? \n",
    "* If training time was a factor, would you consider using the reduced data as your training set? "
   ]
  },
  {
   "cell_type": "markdown",
   "metadata": {},
   "source": [
    "**Answer:**  \n",
    "* __How does the final model's F-score and accuracy score on the reduced data using only five features compare to those same scores when all features are used?__ \n",
    "    - There is a notable difference between the two models. The model that was trained on the full data had $3\\%$ more accuracy and $.05$ more $F_{0.5}$ score than the model that is trained on reduced data. \n",
    "* __If training time was a factor, would you consider using the reduced data as your training set?__ \n",
    "    - That would totally depend on how many more training examples are going to be added. \n",
    "    - I would not use the reduced set for a small dataset, but if the dataset becomes very large, it would be wise to use the reduced data. \n",
    "    - According to me, a good method would be to check where the performance plateaus as we keep on increasing the number of features. "
   ]
  },
  {
   "cell_type": "markdown",
   "metadata": {},
   "source": [
    "## Plotting how Accuracy / $F_{0.5}$ Score behaves as we keep increasing the number of features (in order of importance):"
   ]
  },
  {
   "cell_type": "code",
   "execution_count": 29,
   "metadata": {},
   "outputs": [
    {
     "name": "stderr",
     "output_type": "stream",
     "text": [
      "//anaconda/envs/dlndf/lib/python3.6/site-packages/sklearn/metrics/classification.py:1113: UndefinedMetricWarning: F-score is ill-defined and being set to 0.0 due to no predicted samples.\n",
      "  'precision', 'predicted', average, warn_for)\n"
     ]
    }
   ],
   "source": [
    "# Find each feature's importance: \n",
    "importances = best_clf.feature_importances_\n",
    "\n",
    "# Index of features in descending order of importance \n",
    "desc_importances_ix = np.argsort(importances)[::-1]\n",
    "\n",
    "# Rearrange importances in descending order\n",
    "desc_importances = importances[desc_importances_ix]\n",
    "\n",
    "# Finding cumulative importances:\n",
    "cumsum_importances = np.cumsum(desc_importances)\n",
    "\n",
    "# Creating list of indices to be used to slice \n",
    "# desc_importances_ix in order to get the right features \n",
    "# contributing to a certain importance level from 0.2 \n",
    "# to 1\n",
    "imp_features_ix = []\n",
    "imp_list = np.linspace(0.2,1,9)\n",
    "for imp in imp_list:\n",
    "    imp_features_ix.append((imp,\n",
    "                            np.argmax(cumsum_importances >= imp)))\n",
    "\n",
    "# Creating some arrays used for plotting\n",
    "acc_list = []\n",
    "train_time_list = []\n",
    "fbeta_list = []\n",
    "\n",
    "# Looping through each importance level, training the \n",
    "# classifier on each level of importance, calulating the \n",
    "# train_time with ech level of importance and the \n",
    "# accuracy and f-score with each level of importance: \n",
    "\n",
    "for feature_ix in imp_features_ix:\n",
    "    # Get the sliced feature indices for current importance\n",
    "    # level\n",
    "    sliced_features_ix = desc_importances_ix[:feature_ix[1]]\n",
    "    # Get the names of the sliced features\n",
    "    sliced_features = X_train.columns.values[sliced_features_ix]\n",
    "    # Slice the feature space\n",
    "    X_train_sliced = X_train[sliced_features]\n",
    "    X_test_sliced = X_test[sliced_features]\n",
    "\n",
    "    # Train on the \"best\" model found from grid search earlier\n",
    "    start = time()\n",
    "    clf = clone(best_clf).fit(X_train_sliced, y_train)\n",
    "    end = time()\n",
    "    train_time = end - start\n",
    "    # Append train time to the list\n",
    "    train_time_list.append(train_time)\n",
    "    \n",
    "    # Make new predictions \n",
    "    sliced_predictions = clf.predict(X_test_sliced)\n",
    "    \n",
    "    # Accuracy on test set:\n",
    "    acc = accuracy_score(y_test, sliced_predictions)\n",
    "    # Append accuracy on test set to the list: \n",
    "    acc_list.append(acc)\n",
    "    \n",
    "    # F0.5 score on test set:\n",
    "    f_score = fbeta_score(y_test, sliced_predictions, beta = 0.5)\n",
    "    # Append fbeta score on test set to the list: \n",
    "    fbeta_list.append(f_score)"
   ]
  },
  {
   "cell_type": "markdown",
   "metadata": {},
   "source": [
    "### Seeing where performance plateaus: "
   ]
  },
  {
   "cell_type": "code",
   "execution_count": 45,
   "metadata": {},
   "outputs": [
    {
     "name": "stdout",
     "output_type": "stream",
     "text": [
      "Saving figure:  Visualising_Performance_Plateau\n"
     ]
    },
    {
     "data": {
      "image/png": "[encoded data removed]",
      "text/plain": [
       "<matplotlib.figure.Figure at 0x11210f898>"
      ]
     },
     "metadata": {},
     "output_type": "display_data"
    }
   ],
   "source": [
    "plt.figure(figsize = (10,5))\n",
    "train_time_list = np.array(train_time_list)\n",
    "acc_list = np.array(acc_list)\n",
    "fbeta_list = np.array(fbeta_list)\n",
    "\n",
    "plt.subplot(121)\n",
    "plt.plot(train_time_list, acc_list, \"r--\")\n",
    "for train_time, acc, imp in zip(train_time_list,acc_list,imp_features_ix):\n",
    "    plt.text(train_time,acc + 0.001, imp[1] + 1 , fontsize = 10, color='blue', label = \"Feature Importance\")\n",
    "plt.axis([train_time_list.min() - 1, train_time_list.max() + 1, \n",
    "         0.75 , 0.90]) \n",
    "plt.plot([10.28, 10.28],[0, 0.8619],\"k--\")\n",
    "plt.xlabel(\"Train Time\"+r\"$(s)$\"+\"\\n(Increasing Features)\", fontsize = 20)\n",
    "plt.ylabel(\"Accuracy\", fontsize = 20)\n",
    "plt.legend()\n",
    "\n",
    "plt.subplot(122)\n",
    "plt.plot(train_time_list, fbeta_list, \"y--\")\n",
    "for train_time, fbeta, imp in zip(train_time_list,fbeta_list,np.arange(0.2,1,0.1)):\n",
    "    plt.text(train_time,fbeta, imp, fontsize = 10, color='blue')\n",
    "plt.axis([train_time_list.min() - 1, train_time_list.max() + 1, \n",
    "         0.0 , 0.80]) \n",
    "plt.plot([10.28, 10.28],[0, 0.7318],\"k--\")\n",
    "\n",
    "plt.xlabel(\"Train Time\"+r\"$(s)$\"+\"\\n(Increasing Importance)\", fontsize = 20)\n",
    "plt.ylabel(\"$F_{0.5}$ Score\", fontsize = 20)\n",
    "save_fig(\"Visualising_Performance_Plateau\")"
   ]
  },
  {
   "cell_type": "markdown",
   "metadata": {},
   "source": [
    "### Training with 11 most important features:"
   ]
  },
  {
   "cell_type": "code",
   "execution_count": 31,
   "metadata": {},
   "outputs": [
    {
     "name": "stdout",
     "output_type": "stream",
     "text": [
      "Final Model trained on full data\n",
      "------\n",
      "Accuracy on testing data: 0.8714\n",
      "F-score on testing data: 0.7534\n",
      "\n",
      "Final Model trained on reduced data\n",
      "------\n",
      "Accuracy on testing data: 0.8619\n",
      "F-score on testing data: 0.7318\n",
      "Training Time: 10.283026933670044\n",
      "Prediction Time: 0.5480258464813232\n"
     ]
    }
   ],
   "source": [
    "# Import functionality for cloning a model\n",
    "from sklearn.base import clone\n",
    "\n",
    "# Return the indices that would sort the importances\n",
    "# in descending order\n",
    "desc_importances = np.argsort(importances)[::-1]\n",
    "\n",
    "best_features_ix = desc_importances[:11]\n",
    "best_features = X_train.columns.values[best_features_ix]\n",
    "\n",
    "# Reduce the feature space\n",
    "X_train_reduced = X_train[best_features]\n",
    "X_test_reduced = X_test[best_features]\n",
    "\n",
    "# Train on the \"best\" model found from grid search earlier\n",
    "start = time()\n",
    "clf = clone(best_clf).fit(X_train_reduced, y_train)\n",
    "end = time()\n",
    "train_time = end - start\n",
    "\n",
    "# Make new predictions \n",
    "start = time()\n",
    "reduced_predictions = clf.predict(X_test_reduced)\n",
    "end = time()\n",
    "pred_time = end - start \n",
    "\n",
    "# Report scores from the final model using both versions of data\n",
    "print (\"Final Model trained on full data\\n------\")\n",
    "print (\"Accuracy on testing data: {:.4f}\".format(accuracy_score(y_test, best_predictions)))\n",
    "print (\"F-score on testing data: {:.4f}\".format(fbeta_score(y_test, best_predictions, beta = 0.5)))\n",
    "print (\"\\nFinal Model trained on reduced data\\n------\")\n",
    "print (\"Accuracy on testing data: {:.4f}\".format(accuracy_score(y_test, reduced_predictions)))\n",
    "print (\"F-score on testing data: {:.4f}\".format(fbeta_score(y_test, reduced_predictions, beta = 0.5)))\n",
    "print (\"Training Time: {}\".format(train_time))\n",
    "print(\"Prediction Time: {}\".format(pred_time))"
   ]
  },
  {
   "cell_type": "markdown",
   "metadata": {},
   "source": [
    "**Comparing Training Time, Accuracy and $F_{0.5}$ Score of the optimised model , when trained on full training data vs when trained on reduced training data:**   \n",
    "\n",
    "| Training Set   |    Training Time    |     Accuracy      | $F_{0.5}$ Score |\n",
    "| :------------: | :-----------------: | :---------------: | :-------------: |\n",
    "|**All Features**|    32.513           |     0.8714        |   0.7534        |\n",
    "|**11 most Imp.**|    10.283           |     0.8619        |   0.7318        |  \n",
    "\n",
    "By reducing the number of feature to just $11$, we divided the training time by $3.16$, at the cost of sacrificing accuracy by $0.95$ and $F_{0.5}$ Score by $0.0215$. This cost, according to me is acceptable. "
   ]
  },
  {
   "cell_type": "markdown",
   "metadata": {},
   "source": [
    "> **Note**: Once you have completed all of the code implementations and successfully answered each question above, you may finalize your work by exporting the iPython Notebook as an HTML document. You can do this by using the menu above and navigating to  \n",
    "**File -> Download as -> HTML (.html)**. Include the finished document along with this notebook as your submission."
   ]
  }
 ],
 "metadata": {
  "kernelspec": {
   "display_name": "Python 3",
   "language": "python",
   "name": "python3"
  },
  "language_info": {
   "codemirror_mode": {
    "name": "ipython",
    "version": 3
   },
   "file_extension": ".py",
   "mimetype": "text/x-python",
   "name": "python",
   "nbconvert_exporter": "python",
   "pygments_lexer": "ipython3",
   "version": "3.6.1"
  }
 },
 "nbformat": 4,
 "nbformat_minor": 1
}
